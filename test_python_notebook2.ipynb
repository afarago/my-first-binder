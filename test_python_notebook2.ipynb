{
  "metadata": {
    "kernelspec": {
      "display_name": "Python 3 (ipykernel)",
      "language": "python",
      "name": "python3"
    },
    "language_info": {
      "codemirror_mode": {
        "name": "ipython",
        "version": 3
      },
      "file_extension": ".py",
      "mimetype": "text/x-python",
      "name": "python",
      "nbconvert_exporter": "python",
      "pygments_lexer": "ipython3",
      "version": "3.7.12"
    },
    "colab": {
      "provenance": [],
      "include_colab_link": true
    }
  },
  "nbformat_minor": 5,
  "nbformat": 4,
  "cells": [
    {
      "cell_type": "markdown",
      "metadata": {
        "id": "view-in-github",
        "colab_type": "text"
      },
      "source": [
        "<a href=\"https://colab.research.google.com/github/afarago/my-first-binder/blob/main/test_python_notebook2.ipynb\" target=\"_parent\"><img src=\"https://colab.research.google.com/assets/colab-badge.svg\" alt=\"Open In Colab\"/></a>"
      ]
    },
    {
      "cell_type": "markdown",
      "source": [
        "# Test JupyterLab environment #\n",
        "Using https://mybinder.org/"
      ],
      "metadata": {
        "id": "de87e79b-bbfa-424e-b68f-dbf1fc4db60e"
      },
      "id": "de87e79b-bbfa-424e-b68f-dbf1fc4db60e"
    },
    {
      "cell_type": "code",
      "source": [
        "print(\"hello world\")"
      ],
      "metadata": {
        "trusted": true,
        "id": "3f152690-9301-4006-90dc-4cbec8b8a5a3",
        "outputId": "095f736b-c8a2-4e63-a005-61beae746a7c",
        "colab": {
          "base_uri": "https://localhost:8080/"
        }
      },
      "execution_count": 1,
      "outputs": [
        {
          "output_type": "stream",
          "name": "stdout",
          "text": [
            "hello world\n"
          ]
        }
      ],
      "id": "3f152690-9301-4006-90dc-4cbec8b8a5a3"
    },
    {
      "cell_type": "markdown",
      "source": [
        "Test code\n",
        "- alma\n",
        "- korte\n",
        "- szilva"
      ],
      "metadata": {
        "id": "3TQSW4xnKV06"
      },
      "id": "3TQSW4xnKV06"
    }
  ]
}